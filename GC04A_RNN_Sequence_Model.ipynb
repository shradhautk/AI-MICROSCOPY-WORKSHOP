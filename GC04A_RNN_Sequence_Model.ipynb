{
  "cells": [
    {
      "cell_type": "markdown",
      "metadata": {
        "id": "view-in-github",
        "colab_type": "text"
      },
      "source": [
        "<a href=\"https://colab.research.google.com/github/shradhautk/AI-MICROSCOPY-WORKSHOP/blob/main/GC04A_RNN_Sequence_Model.ipynb\" target=\"_parent\"><img src=\"https://colab.research.google.com/assets/colab-badge.svg\" alt=\"Open In Colab\"/></a>"
      ]
    },
    {
      "cell_type": "markdown",
      "metadata": {
        "id": "ebbZ_Vt-IZ7R"
      },
      "source": [
        "## Sequence Models (IMDB Sentiment Analysis using SimpleRNN)"
      ]
    },
    {
      "cell_type": "code",
      "source": [
        "%pip install -qqq keras scikit-learn"
      ],
      "metadata": {
        "id": "hPJJBO2oNh3G"
      },
      "execution_count": null,
      "outputs": []
    },
    {
      "cell_type": "code",
      "execution_count": null,
      "metadata": {
        "id": "T-SDzoEV6Q-x"
      },
      "outputs": [],
      "source": [
        "from keras.datasets import imdb\n",
        "from keras.preprocessing import sequence\n",
        "from sklearn.model_selection import train_test_split\n",
        "import numpy as np\n",
        "from keras.callbacks import EarlyStopping, ModelCheckpoint\n",
        "from keras.optimizers import RMSprop"
      ]
    },
    {
      "cell_type": "markdown",
      "metadata": {
        "id": "7nSp2Rig6XkI"
      },
      "source": [
        "**Loading the IMDB data**"
      ]
    },
    {
      "cell_type": "code",
      "source": [
        "max_features = 10000  # reviews with containing top many words will be kept\n",
        "\n",
        "print('Loading data...')\n",
        "(input_train, y_train), (input_test, y_test) = imdb.load_data(num_words=max_features)\n",
        "\n",
        "# Split input_test and y_test into validation and test sets\n",
        "input_val, input_test, y_val, y_test = train_test_split(input_test, y_test, test_size=0.6, random_state=42)\n",
        "\n",
        "print(len(input_train), 'train sequences')\n",
        "print(len(input_val), 'validation sequences')\n",
        "print(len(input_test), 'test sequences')"
      ],
      "metadata": {
        "id": "8zzTtwdmmQHr"
      },
      "execution_count": null,
      "outputs": []
    },
    {
      "cell_type": "markdown",
      "source": [
        "**Preparing the data**"
      ],
      "metadata": {
        "id": "QNdo0CMooJMf"
      }
    },
    {
      "cell_type": "code",
      "source": [
        "max_sequence_length = 1000  # reviews with containg more than defined words will be truncated\n",
        "\n",
        "# Padding sequences\n",
        "print('Pad sequences (samples x time)')\n",
        "X_train = sequence.pad_sequences(input_train, maxlen=max_sequence_length)\n",
        "X_val   = sequence.pad_sequences(input_val,   maxlen=max_sequence_length)\n",
        "X_test  = sequence.pad_sequences(input_test,  maxlen=max_sequence_length)\n",
        "\n",
        "# Randomize training data\n",
        "np.random.seed(42)  # Set seed for reproducibility\n",
        "shuffle_indices = np.random.permutation(len(X_train))\n",
        "X_train = X_train[shuffle_indices]\n",
        "y_train = y_train[shuffle_indices]\n",
        "\n",
        "print('input_train shape:', X_train.shape)\n",
        "print('input_val shape:', X_val.shape)\n",
        "print('input_test shape:', X_test.shape)\n"
      ],
      "metadata": {
        "id": "0H3sG_wvoJMh"
      },
      "execution_count": null,
      "outputs": []
    },
    {
      "cell_type": "markdown",
      "metadata": {
        "id": "haZzlY-l6uuf"
      },
      "source": [
        "**Training the model with Embedding and SimpleRNN layers**"
      ]
    },
    {
      "cell_type": "code",
      "source": [
        "#Optuna Optimized parameters\n",
        "#Test Loss: 0.29567480087280273\n",
        "#Test Accuracy: 0.8817333579063416\n",
        "#Parameters:\n",
        "#    embedding_dim: 128\n",
        "#    num_units: 64\n",
        "#    bidirectional: False\n",
        "#   learning_rate: 0.00014503438093039025\n",
        "#    optimizer: RMSprop"
      ],
      "metadata": {
        "id": "T8xNYZV91OUY"
      },
      "execution_count": null,
      "outputs": []
    },
    {
      "cell_type": "code",
      "source": [
        "# Callbacks\n",
        "early_stopping = EarlyStopping(monitor='val_loss', patience=4, restore_best_weights=True)\n",
        "model_checkpoint = ModelCheckpoint('best_model.keras', save_best_only=True, monitor='val_loss', mode='min')\n",
        "callbacks = [early_stopping, model_checkpoint]"
      ],
      "metadata": {
        "id": "kF4WUo3ln9yW"
      },
      "execution_count": null,
      "outputs": []
    },
    {
      "cell_type": "code",
      "execution_count": null,
      "metadata": {
        "id": "wxoGCmyt6i0q",
        "colab": {
          "base_uri": "https://localhost:8080/"
        },
        "outputId": "54543510-9914-42c2-90fe-5afaaea75411"
      },
      "outputs": [
        {
          "output_type": "stream",
          "name": "stdout",
          "text": [
            "Epoch 1/30\n"
          ]
        }
      ],
      "source": [
        "from keras.models import Sequential\n",
        "from keras.layers import Dense, Embedding, SimpleRNN\n",
        "\n",
        "model = Sequential()\n",
        "model.add(Embedding(input_dim=max_features, output_dim=128,))#input_length=max_sequence_length))  # commented due deprecation warning\n",
        "model.add(SimpleRNN(64, unroll=True))\n",
        "model.add(Dense(1, activation='sigmoid'))\n",
        "\n",
        "opt = RMSprop(learning_rate=0.000145)\n",
        "model.compile(optimizer=opt, loss='binary_crossentropy', metrics=['acc'])\n",
        "\n",
        "history1 = model.fit(X_train, y_train,\n",
        "                     epochs=30,\n",
        "                     batch_size=128,\n",
        "                     validation_data=(X_val, y_val),\n",
        "                     callbacks=callbacks,\n",
        "                     verbose=1)"
      ]
    },
    {
      "cell_type": "markdown",
      "metadata": {
        "id": "vyCtv6_x64x7"
      },
      "source": [
        "**Plotting results**"
      ]
    },
    {
      "cell_type": "code",
      "execution_count": null,
      "metadata": {
        "id": "ULQtsxuN61qZ"
      },
      "outputs": [],
      "source": [
        "import matplotlib.pyplot as plt\n",
        "plt.style.use('ggplot')\n",
        "\n",
        "# Sample data (replace with actual data)\n",
        "acc = history1.history['acc']\n",
        "val_acc = history1.history['val_acc']\n",
        "loss = history1.history['loss']\n",
        "val_loss = history1.history['val_loss']\n",
        "epochs = range(1, len(acc) + 1)\n",
        "\n",
        "# Color palette for lines\n",
        "colors = plt.cm.tab10(range(2))  # Choosing 2 colors from the 'tab10' colormap\n",
        "\n",
        "# Styling the plots\n",
        "plt.figure(figsize=(11, 4))\n",
        "\n",
        "# Plotting accuracy\n",
        "plt.subplot(1, 2, 1)\n",
        "plt.plot(epochs, acc, linestyle='-', color=colors[0], label='Training Accuracy')\n",
        "plt.plot(epochs, val_acc, linestyle='-', color=colors[1], label='Validation Accuracy')\n",
        "plt.title('RNN: Training and Validation Accuracy', fontsize=15)\n",
        "plt.xlabel('Epochs', fontsize=12)\n",
        "plt.ylabel('Accuracy', fontsize=12)\n",
        "plt.grid(axis='y', linestyle='--')\n",
        "plt.legend(loc='lower right')\n",
        "\n",
        "# Plotting loss\n",
        "plt.subplot(1, 2, 2)\n",
        "plt.plot(epochs, loss, linestyle='-', color=colors[0], label='Training Loss')\n",
        "plt.plot(epochs, val_loss, linestyle='-', color=colors[1], label='Validation Loss')\n",
        "plt.title('RNN: Training and Validation Loss', fontsize=15)\n",
        "plt.xlabel('Epochs', fontsize=12)\n",
        "plt.ylabel('Loss', fontsize=12)\n",
        "plt.grid(axis='y', linestyle='--')\n",
        "plt.legend(loc='upper right')\n",
        "plt.tight_layout()\n",
        "plt.show()\n"
      ]
    },
    {
      "cell_type": "markdown",
      "source": [
        "**Test Accuracy & Confusion Matrix**"
      ],
      "metadata": {
        "id": "OjhyE_2uNZYa"
      }
    },
    {
      "cell_type": "code",
      "source": [
        "from sklearn.metrics import accuracy_score, confusion_matrix, f1_score, precision_score, recall_score\n",
        "\n",
        "y_pred_probs = model.predict(X_test)\n",
        "y_pred = (y_pred_probs > 0.5).astype(int).flatten()  # due sigmoid function which returns probs\n",
        "\n",
        "test_acc = accuracy_score(y_test, y_pred)\n",
        "print(f'Simple RNN: Test accuracy:, {test_acc:3.3f}')\n",
        "print(f'Simple RNN: F1 score: {f1_score(y_test, y_pred):3.3f}')"
      ],
      "metadata": {
        "id": "N98OuamGNkDE"
      },
      "execution_count": null,
      "outputs": []
    },
    {
      "cell_type": "code",
      "source": [
        "import matplotlib.pyplot as plt\n",
        "import seaborn as sns\n",
        "\n",
        "def plot_cm(model, y_test, y_pred, class_labels=[\"negative\", \"positive\"]):\n",
        "    cm = confusion_matrix(y_test, y_pred)\n",
        "    sns.heatmap(cm, annot=True, fmt=\"d\", cmap=plt.cm.Blues, xticklabels=class_labels, yticklabels=class_labels)\n",
        "    plt.ylabel('True Label')\n",
        "    plt.xlabel('Predicted Label')\n",
        "    plt.title('Simple RNN: Confusion Matrix')\n",
        "    plt.show()\n",
        "\n",
        "plot_cm(model, y_test, y_pred )\n"
      ],
      "metadata": {
        "id": "g_cuf91rr0fA"
      },
      "execution_count": null,
      "outputs": []
    },
    {
      "cell_type": "markdown",
      "metadata": {
        "id": "inyt7S6JL9Ug"
      },
      "source": [
        "**Bi-Directional RNN**"
      ]
    },
    {
      "cell_type": "code",
      "execution_count": null,
      "metadata": {
        "id": "MmnqjH3WMA7M"
      },
      "outputs": [],
      "source": [
        "from keras.models import Sequential\n",
        "from keras.layers import Dense, Embedding, SimpleRNN, Bidirectional\n",
        "\n",
        "model2 = Sequential()\n",
        "model2.add(Embedding(input_dim=max_features, output_dim=128, input_length=max_sequence_length))\n",
        "model2.add(Bidirectional(SimpleRNN(64)))\n",
        "model2.add(Dense(1, activation='sigmoid'))\n",
        "\n",
        "opt = RMSprop(learning_rate=0.000145)\n",
        "model2.compile(optimizer=opt, loss='binary_crossentropy', metrics=['acc'])\n",
        "\n",
        "history2 = model2.fit(X_train, y_train,\n",
        "                      epochs=30,\n",
        "                      batch_size=128,\n",
        "                      validation_data=(X_val, y_val),\n",
        "                      callbacks=callbacks)"
      ]
    },
    {
      "cell_type": "code",
      "execution_count": null,
      "metadata": {
        "id": "WuwmLT8nM22p"
      },
      "outputs": [],
      "source": [
        "import matplotlib.pyplot as plt\n",
        "plt.style.use('ggplot')\n",
        "\n",
        "# Sample data (replace with actual data)\n",
        "acc = history2.history['acc']\n",
        "val_acc = history2.history['val_acc']\n",
        "loss = history2.history['loss']\n",
        "val_loss = history2.history['val_loss']\n",
        "epochs = range(1, len(acc) + 1)\n",
        "\n",
        "# Color palette for lines\n",
        "colors = plt.cm.tab10(range(2))  # Choosing 2 colors from the 'tab10' colormap\n",
        "\n",
        "# Styling the plots\n",
        "plt.figure(figsize=(11, 4))\n",
        "\n",
        "# Plotting accuracy\n",
        "plt.subplot(1, 2, 1)\n",
        "plt.plot(epochs, acc, linestyle='-', color=colors[0], label='Training Accuracy')\n",
        "plt.plot(epochs, val_acc, linestyle='-', color=colors[1], label='Validation Accuracy')\n",
        "plt.title('BiDrectional RNN: Training and Validation Accuracy', fontsize=15)\n",
        "plt.xlabel('Epochs', fontsize=12)\n",
        "plt.ylabel('Accuracy', fontsize=12)\n",
        "plt.grid(axis='y', linestyle='--')\n",
        "plt.legend(loc='lower right')\n",
        "\n",
        "# Plotting loss\n",
        "plt.subplot(1, 2, 2)\n",
        "plt.plot(epochs, loss, linestyle='-', color=colors[0], label='Training Loss')\n",
        "plt.plot(epochs, val_loss, linestyle='-', color=colors[1], label='Validation Loss')\n",
        "plt.title('BiDrectional RNN: Training and Validation Loss', fontsize=15)\n",
        "plt.xlabel('Epochs', fontsize=12)\n",
        "plt.ylabel('Loss', fontsize=12)\n",
        "plt.grid(axis='y', linestyle='--')\n",
        "plt.legend(loc='upper right')\n",
        "plt.tight_layout()\n",
        "plt.show()\n"
      ]
    },
    {
      "cell_type": "markdown",
      "source": [
        "**Test Accuracy & Confusion Matrix**"
      ],
      "metadata": {
        "id": "xNAYPONfuS63"
      }
    },
    {
      "cell_type": "code",
      "source": [
        "from sklearn.metrics import accuracy_score, confusion_matrix, f1_score, precision_score, recall_score\n",
        "\n",
        "y_pred_probs = model2.predict(X_test)\n",
        "y_pred = (y_pred_probs > 0.5).astype(int).flatten()  # due sigmoid function which returns probs\n",
        "\n",
        "test_acc = accuracy_score(y_test, y_pred)\n",
        "print(f'BiDrectional RNN:: Test accuracy:, {test_acc:3.3f}')\n",
        "print(f'BiDrectional RNN:  F1 score: {f1_score(y_test, y_pred):3.3f}')"
      ],
      "metadata": {
        "id": "crtGrN_GuS67"
      },
      "execution_count": null,
      "outputs": []
    },
    {
      "cell_type": "code",
      "source": [
        "import matplotlib.pyplot as plt\n",
        "import seaborn as sns\n",
        "\n",
        "def plot_cm(model, y_test, y_pred, class_labels=[\"negative\", \"positive\"]):\n",
        "    cm = confusion_matrix(y_test, y_pred)\n",
        "    sns.heatmap(cm, annot=True, fmt=\"d\", cmap=plt.cm.Blues, xticklabels=class_labels, yticklabels=class_labels)\n",
        "    plt.ylabel('True Label')\n",
        "    plt.xlabel('Predicted Label')\n",
        "    plt.title('BiDrectional RNN: Confusion Matrix')\n",
        "    plt.show()\n",
        "\n",
        "plot_cm(model2, y_test, y_pred )\n"
      ],
      "metadata": {
        "id": "TzomnbW-uS6_"
      },
      "execution_count": null,
      "outputs": []
    },
    {
      "cell_type": "code",
      "source": [],
      "metadata": {
        "id": "5trxcjYvuVUY"
      },
      "execution_count": null,
      "outputs": []
    }
  ],
  "metadata": {
    "colab": {
      "provenance": [],
      "gpuType": "T4",
      "include_colab_link": true
    },
    "kernelspec": {
      "display_name": "Python 3",
      "name": "python3"
    },
    "language_info": {
      "codemirror_mode": {
        "name": "ipython",
        "version": 3
      },
      "file_extension": ".py",
      "mimetype": "text/x-python",
      "name": "python",
      "nbconvert_exporter": "python",
      "pygments_lexer": "ipython3",
      "version": "3.7.15"
    },
    "accelerator": "GPU"
  },
  "nbformat": 4,
  "nbformat_minor": 0
}